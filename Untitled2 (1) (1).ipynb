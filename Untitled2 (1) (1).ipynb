{
 "cells": [
  {
   "cell_type": "code",
   "execution_count": 1,
   "id": "bd10f838-d74f-4822-9c21-7e6ea0446dec",
   "metadata": {},
   "outputs": [],
   "source": [
    "import nltk\n",
    "import numpy\n",
    "import pandas as pd\n",
    "import string\n",
    "import csv\n",
    "from gensim.models import Word2Vec\n",
    "from nltk.tokenize import sent_tokenize, word_tokenize\n",
    "from nltk.tokenize import word_tokenize, sent_tokenize\n",
    "from nltk.corpus import stopwords\n",
    "from nltk.stem import WordNetLemmatizer, PorterStemmer"
   ]
  },
  {
   "cell_type": "code",
   "execution_count": 2,
   "id": "9eb19da3-7219-4282-9fce-0f8f9fc7fe42",
   "metadata": {},
   "outputs": [
    {
     "name": "stdout",
     "output_type": "stream",
     "text": [
      "      Unnamed: 0       id          singer_name  \\\n",
      "0              0   5765.0  Taylor Swift Lyrics   \n",
      "1              1   6432.0  Taylor Swift Lyrics   \n",
      "2              2   6995.0  Taylor Swift Lyrics   \n",
      "3              3  10358.0  Taylor Swift Lyrics   \n",
      "4              4  24353.0  Taylor Swift Lyrics   \n",
      "...          ...      ...                  ...   \n",
      "1814        1814  22624.0    Jason Mraz Lyrics   \n",
      "1815        1815  32642.0    Jason Mraz Lyrics   \n",
      "1816        1816  58384.0    Jason Mraz Lyrics   \n",
      "1817        1817  81696.0    Jason Mraz Lyrics   \n",
      "1818        1818      NaN    Jason Mraz Lyrics   \n",
      "\n",
      "                                                   name         type  \\\n",
      "0                                          Taylor Swift        album   \n",
      "1     Sounds Of The Season: The Taylor Swift Holiday...           EP   \n",
      "2                                              Fearless        album   \n",
      "3                                             Speak Now        album   \n",
      "4                                                   Red        album   \n",
      "...                                                 ...          ...   \n",
      "1814                         Love Is A Four Letter Word        album   \n",
      "1815                                               Yes!        album   \n",
      "1816                                              Know.        album   \n",
      "1817                                  Look For The Good        album   \n",
      "1818                                       other songs:  other songs   \n",
      "\n",
      "             year  \n",
      "0            2006  \n",
      "1            2007  \n",
      "2            2008  \n",
      "3            2010  \n",
      "4            2012  \n",
      "...           ...  \n",
      "1814         2012  \n",
      "1815         2014  \n",
      "1816         2018  \n",
      "1817         2020  \n",
      "1818  Not Defined  \n",
      "\n",
      "[1819 rows x 6 columns]\n"
     ]
    }
   ],
   "source": [
    "df = pd.read_csv(\"C:/Users/veysi/Desktop/album_details.csv\") \n",
    "print(df)"
   ]
  },
  {
   "cell_type": "code",
   "execution_count": 3,
   "id": "58f341a7-9423-433b-97ae-b7620e6e24a1",
   "metadata": {},
   "outputs": [
    {
     "name": "stdout",
     "output_type": "stream",
     "text": [
      " İlk 50 Türkçe stopword:\n",
      "['az', 'mu', 'nereye', 'birkaç', 'çünkü', 'acaba', 'mı', 'diye', 'biri', 'kez', 'ya', 'o', 'de', 'şey', 'gibi', 'sanki', 'mü', 'yani', 've', 'tüm', 'aslında', 'hep', 'siz', 'hiç', 'hem', 'niye', 'veya', 'ama', 'daha', 'her', 'eğer', 'birşey', 'biz', 'belki', 'bazı', 'en', 'bu', 'nasıl', 'ne', 'nerde', 'defa', 'ise', 'ki', 'şu', 'kim', 'da', 'niçin', 'neden', 'hepsi', 'için']\n"
     ]
    },
    {
     "name": "stderr",
     "output_type": "stream",
     "text": [
      "[nltk_data] Downloading package stopwords to\n",
      "[nltk_data]     C:\\Users\\veysi\\AppData\\Roaming\\nltk_data...\n",
      "[nltk_data]   Package stopwords is already up-to-date!\n"
     ]
    }
   ],
   "source": [
    "#Stop word removal(gereksiz/sık kullanılan kelimelerin çıkarılması) işlemi Yapıldı\n",
    "nltk.download(\"stopwords\")\n",
    "\n",
    "stop_words = set(stopwords.words('turkish'))\n",
    "\n",
    "stop_words_list = list(stop_words)\n",
    "\n",
    "print(\" İlk 50 Türkçe stopword:\")\n",
    "print(stop_words_list[:50])\n"
   ]
  },
  {
   "cell_type": "code",
   "execution_count": 4,
   "id": "24765288-4f9b-4730-9ce2-ad620be3719d",
   "metadata": {},
   "outputs": [
    {
     "name": "stderr",
     "output_type": "stream",
     "text": [
      "[nltk_data] Downloading package punkt to\n",
      "[nltk_data]     C:\\Users\\veysi\\AppData\\Roaming\\nltk_data...\n",
      "[nltk_data]   Package punkt is already up-to-date!\n"
     ]
    },
    {
     "name": "stdout",
     "output_type": "stream",
     "text": [
      "0      [Taylor Swift Lyrics]\n",
      "1      [Taylor Swift Lyrics]\n",
      "2      [Taylor Swift Lyrics]\n",
      "3      [Taylor Swift Lyrics]\n",
      "4      [Taylor Swift Lyrics]\n",
      "5      [Taylor Swift Lyrics]\n",
      "6      [Taylor Swift Lyrics]\n",
      "7      [Taylor Swift Lyrics]\n",
      "8      [Taylor Swift Lyrics]\n",
      "9     [Ariana Grande Lyrics]\n",
      "10    [Ariana Grande Lyrics]\n",
      "11    [Ariana Grande Lyrics]\n",
      "12    [Ariana Grande Lyrics]\n",
      "13    [Ariana Grande Lyrics]\n",
      "14    [Ariana Grande Lyrics]\n",
      "15    [Ariana Grande Lyrics]\n",
      "16    [Ariana Grande Lyrics]\n",
      "17    [Nelly Furtado Lyrics]\n",
      "18    [Nelly Furtado Lyrics]\n",
      "19    [Nelly Furtado Lyrics]\n",
      "Name: sentences, dtype: object\n"
     ]
    }
   ],
   "source": [
    "import nltk\n",
    "import string\n",
    "from nltk.tokenize import sent_tokenize\n",
    "\n",
    "# Gerekli NLTK paketi indiriliyor\n",
    "nltk.download('punkt')\n",
    "\n",
    "# Noktalama karakterlerini kaldırmak için çeviri tablosu\n",
    "translator = str.maketrans('', '', string.punctuation)\n",
    "\n",
    "# Her tweeti cümlelere ayır ve noktalama işaretlerini kaldır\n",
    "def split_and_clean_sentences(text):\n",
    "    sentences = sent_tokenize(text)  # Cümlelere ayırıyor\n",
    "    cleaned = [s.translate(translator) for s in sentences]  # Noktalamayı kaldırıyor\n",
    "    return cleaned\n",
    "\n",
    "# 'singer_name' yerine doğru sütunu kullanın (örneğin, 'tweet' veya 'text' gibi)\n",
    "df['sentences'] = df['singer_name'].apply(split_and_clean_sentences)\n",
    "\n",
    "# İlk 20 satırın cümlelerini yazdır\n",
    "print(df['sentences'].head(20))\n"
   ]
  },
  {
   "cell_type": "code",
   "execution_count": 5,
   "id": "1e6c2c8a-ebf9-4aa4-92fa-b3844452a56b",
   "metadata": {},
   "outputs": [
    {
     "name": "stdout",
     "output_type": "stream",
     "text": [
      "[['taylor', 'swift', 'lyrics'], ['taylor', 'swift', 'lyrics'], ['taylor', 'swift', 'lyrics'], ['taylor', 'swift', 'lyrics'], ['taylor', 'swift', 'lyrics'], ['taylor', 'swift', 'lyrics'], ['taylor', 'swift', 'lyrics'], ['taylor', 'swift', 'lyrics'], ['taylor', 'swift', 'lyrics'], ['ariana', 'grande', 'lyrics']]\n"
     ]
    },
    {
     "name": "stderr",
     "output_type": "stream",
     "text": [
      "[nltk_data] Downloading package punkt to\n",
      "[nltk_data]     C:\\Users\\veysi\\AppData\\Roaming\\nltk_data...\n",
      "[nltk_data]   Package punkt is already up-to-date!\n",
      "[nltk_data] Downloading package stopwords to\n",
      "[nltk_data]     C:\\Users\\veysi\\AppData\\Roaming\\nltk_data...\n",
      "[nltk_data]   Package stopwords is already up-to-date!\n"
     ]
    }
   ],
   "source": [
    "import nltk\n",
    "import pandas as pd\n",
    "from nltk.tokenize import sent_tokenize, word_tokenize\n",
    "from nltk.corpus import stopwords\n",
    "import string\n",
    "\n",
    "# Gerekli NLTK verileri indiriliyor\n",
    "nltk.download('punkt')\n",
    "nltk.download('stopwords')\n",
    "\n",
    "# Türkçe stopword'ler\n",
    "stop_words = set(stopwords.words('turkish'))\n",
    "\n",
    "# Tüm tweetleri tek bir listede cümlelere böl\n",
    "all_sentences = []\n",
    "for tweet in df['singer_name']:  # Burada 'singer_name' sütununu kontrol ediyorsunuz\n",
    "    if pd.notna(tweet):  # NaN olmayanları kontrol et\n",
    "        tweet_sentences = sent_tokenize(str(tweet))  # Tweeti cümlelere ayır\n",
    "        all_sentences.extend(tweet_sentences)\n",
    "\n",
    "# Cümleleri kelimelere ayır ve temizle\n",
    "filtered_sentences = []\n",
    "for sentence in all_sentences:\n",
    "    tokens = word_tokenize(sentence)  # Cümleyi kelimelere ayır\n",
    "    filtered_tokens = []\n",
    "    for token in tokens:\n",
    "        if token.isalpha():  # Sadece harflerden oluşuyorsa\n",
    "            token_lower = token.lower()  # Küçük harfe dönüştür\n",
    "            if token_lower not in stop_words:  # Stop word değilse\n",
    "                filtered_tokens.append(token_lower)\n",
    "    filtered_sentences.append(filtered_tokens)\n",
    "\n",
    "# İlk 10 temizlenmiş cümleyi yazdır\n",
    "print(filtered_sentences[:10])\n"
   ]
  },
  {
   "cell_type": "code",
   "execution_count": 6,
   "id": "6400fe94-3dbd-4fe6-a5e5-e765743f4cdd",
   "metadata": {},
   "outputs": [
    {
     "name": "stderr",
     "output_type": "stream",
     "text": [
      "[nltk_data] Downloading package punkt to\n",
      "[nltk_data]     C:\\Users\\veysi\\AppData\\Roaming\\nltk_data...\n",
      "[nltk_data]   Package punkt is already up-to-date!\n",
      "[nltk_data] Downloading package wordnet to\n",
      "[nltk_data]     C:\\Users\\veysi\\AppData\\Roaming\\nltk_data...\n",
      "[nltk_data]   Package wordnet is already up-to-date!\n"
     ]
    },
    {
     "name": "stdout",
     "output_type": "stream",
     "text": [
      "[['Taylor', 'Swift', 'Lyrics'], ['Taylor', 'Swift', 'Lyrics'], ['Taylor', 'Swift', 'Lyrics'], ['Taylor', 'Swift', 'Lyrics'], ['Taylor', 'Swift', 'Lyrics'], ['Taylor', 'Swift', 'Lyrics'], ['Taylor', 'Swift', 'Lyrics'], ['Taylor', 'Swift', 'Lyrics'], ['Taylor', 'Swift', 'Lyrics'], ['Ariana', 'Grande', 'Lyrics']]\n",
      "Lemmatize edilmiş cümleler 'lemmatized_sentences.csv' dosyasına kaydedildi.\n"
     ]
    }
   ],
   "source": [
    "#Lemmatization İşlemi Yapılmıştır\n",
    "# Gerekli NLTK verileri indiriliyor\n",
    "nltk.download('punkt')\n",
    "nltk.download('wordnet')\n",
    "\n",
    "# Lemmatizer'ı başlat\n",
    "lemmatizer = WordNetLemmatizer()\n",
    "\n",
    "# Tweetlerden tüm cümleleri almak\n",
    "all_sentences = []\n",
    "for tweet in df['singer_name']:\n",
    "    if pd.notna(tweet):  # NaN olmayanları kontrol et\n",
    "        all_sentences.append(str(tweet))\n",
    "\n",
    "# Sadece lemmatization işlemi\n",
    "tokenized_corpus_lemmatized = []\n",
    "for sentence in all_sentences:\n",
    "    tokens = word_tokenize(sentence)\n",
    "    \n",
    "    # Lemmatize et\n",
    "    lemmatized_tokens = [lemmatizer.lemmatize(token) for token in tokens]\n",
    "    \n",
    "    # Lemmatize edilmiş tokenleri cümle olarak ekle\n",
    "    tokenized_corpus_lemmatized.append(lemmatized_tokens)\n",
    "\n",
    "# İlk 10 cümleyi yazdır\n",
    "print(tokenized_corpus_lemmatized[:10])\n",
    "\n",
    "# Lemmatize edilmiş cümleleri CSV dosyasına kaydetme\n",
    "with open(\"lemmatized_sentences.csv\", mode=\"w\", newline=\"\", encoding=\"utf-8\") as file:\n",
    "    writer = csv.writer(file)\n",
    "    # Her cümleyi bir satır olarak yaz\n",
    "    for tokens in tokenized_corpus_lemmatized:\n",
    "        writer.writerow([' '.join(tokens)])  # Her kelimeyi bir araya getirip bir satıra yaz\n",
    "\n",
    "print(\"Lemmatize edilmiş cümleler 'lemmatized_sentences.csv' dosyasına kaydedildi.\")"
   ]
  },
  {
   "cell_type": "code",
   "execution_count": 7,
   "id": "cca07aca-5cfd-4566-88c1-adb245c98620",
   "metadata": {},
   "outputs": [
    {
     "name": "stdout",
     "output_type": "stream",
     "text": [
      "[['taylor', 'swift', 'lyric'], ['taylor', 'swift', 'lyric'], ['taylor', 'swift', 'lyric'], ['taylor', 'swift', 'lyric'], ['taylor', 'swift', 'lyric'], ['taylor', 'swift', 'lyric'], ['taylor', 'swift', 'lyric'], ['taylor', 'swift', 'lyric'], ['taylor', 'swift', 'lyric'], ['ariana', 'grand', 'lyric']]\n",
      "Stemmize edilmiş cümleler 'stemmed_sentences.csv' dosyasına kaydedildi.\n"
     ]
    }
   ],
   "source": [
    "#Stemming İşlemi Yapılmıştır\n",
    "# Stemmer'ı başlat\n",
    "stemmer = PorterStemmer()\n",
    "\n",
    "# Stem'lenmiş cümleleri saklamak için boş liste\n",
    "tokenized_corpus_stemmed = []\n",
    "\n",
    "# Filtrelenmiş her cümle (token listesi) için\n",
    "for filtered_tokens in filtered_sentences:\n",
    "    stemmed_tokens = []  # Stem'lenmiş token'ları saklamak için boş liste ekler\n",
    "    for token in filtered_tokens:\n",
    "        stem = stemmer.stem(token)  # Her kelimeyi kök haline getirir\n",
    "        stemmed_tokens.append(stem)  # Stem'lenmiş kelimeyi listeye ekler\n",
    "    tokenized_corpus_stemmed.append(stemmed_tokens)  # Stem'lenmiş cümleyi korpus listesine ekler\n",
    "\n",
    "# İlk 10 sonucu yazdırır\n",
    "print(tokenized_corpus_stemmed[:10])\n",
    "\n",
    "#csv olarak kaydetme\n",
    "with open(\"stemmed_sentences.csv\", mode=\"w\", newline=\"\", encoding=\"utf-8\") as file:\n",
    "    writer = csv.writer(file)\n",
    "    # Her cümleyi bir satır olarak yaz\n",
    "    for tokens in tokenized_corpus_stemmed:\n",
    "        writer.writerow([' '.join(tokens)])\n",
    "print(\"Stemmize edilmiş cümleler 'stemmed_sentences.csv' dosyasına kaydedildi.\")"
   ]
  },
  {
   "cell_type": "code",
   "execution_count": 8,
   "id": "9f362bc4-a186-43a3-a194-21261db0bcda",
   "metadata": {},
   "outputs": [
    {
     "data": {
      "image/png": "[encoded data removed]",
      "text/plain": [
       "<Figure size 1000x600 with 1 Axes>"
      ]
     },
     "metadata": {},
     "output_type": "display_data"
    }
   ],
   "source": [
    "import pandas as pd\n",
    "import matplotlib.pyplot as plt\n",
    "import numpy as np\n",
    "from collections import Counter\n",
    "\n",
    "# Veriyi okuma\n",
    "\n",
    "\n",
    "# singer_name sütununu al, NaN olanları çıkar ve string'e çevir\n",
    "sentences = df['singer_name'].dropna().astype(str).tolist()\n",
    "\n",
    "# Cümleleri küçük harfe çevir ve kelimelere ayır\n",
    "corpus_lemmatized = [s.lower().split() for s in sentences]\n",
    "\n",
    "# Tüm kelimeleri tek listeye topla\n",
    "all_words = [word for sentence in corpus_lemmatized for word in sentence]\n",
    "\n",
    "# Kelime frekanslarını hesapla\n",
    "word_freq = Counter(all_words)\n",
    "\n",
    "# Frekansları sırala (büyükten küçüğe)\n",
    "sorted_freq = sorted(word_freq.values(), reverse=True)\n",
    "\n",
    "# Kelime sırasını oluştur (ranks)\n",
    "ranks = np.arange(1, len(sorted_freq) + 1)\n",
    "\n",
    "# Log-log grafiği çizildi\n",
    "plt.figure(figsize=(10,6))\n",
    "plt.loglog(ranks, sorted_freq, marker=\".\")\n",
    "plt.title(\"Zipf Yasası Log-Log Grafiği (Excel Verisi)\")\n",
    "plt.xlabel(\"Kelime Sırası (log(rank))\")\n",
    "plt.ylabel(\"Frekans (log(frequency))\")\n",
    "plt.grid(True)\n",
    "plt.show()\n"
   ]
  },
  {
   "cell_type": "code",
   "execution_count": 9,
   "id": "064a7c15-18ed-4be2-86a5-4b6739b02c35",
   "metadata": {},
   "outputs": [
    {
     "name": "stdout",
     "output_type": "stream",
     "text": [
      "                     0\n",
      "0  Taylor Swift Lyrics\n",
      "1  Taylor Swift Lyrics\n",
      "2  Taylor Swift Lyrics\n",
      "3  Taylor Swift Lyrics\n",
      "4  Taylor Swift Lyrics\n"
     ]
    },
    {
     "data": {
      "image/png": "[encoded data removed]",
      "text/plain": [
       "<Figure size 1000x600 with 1 Axes>"
      ]
     },
     "metadata": {},
     "output_type": "display_data"
    }
   ],
   "source": [
    "import pandas as pd\n",
    "import matplotlib.pyplot as plt\n",
    "from collections import Counter\n",
    "\n",
    "df = pd.read_csv(\"C:/Users/veysi/Desktop/lemmatized_sentences.xls\", header=None)\n",
    "\n",
    "# Veri çerçevesinin ilk birkaç satırını görüntüler\n",
    "print(df.head())\n",
    "\n",
    "# Sütunları manuel olarak atayalım\n",
    "df.columns = ['sentence']\n",
    "\n",
    "# Tüm cümleleri birleştir ve kelimelere ayırır\n",
    "all_words = \" \".join(df[\"sentence\"].dropna()).split()\n",
    "\n",
    "# Kelime frekanslarını hesaplar\n",
    "word_freq = Counter(all_words)\n",
    "\n",
    "# Frekansları azalan şekilde sıralar\n",
    "sorted_freq = sorted(word_freq.values(), reverse=True)\n",
    "\n",
    "# Rank (sıra) verisi oluşturur\n",
    "ranks = range(1, len(sorted_freq) + 1)\n",
    "\n",
    "# Log-log grafiği çizer\n",
    "plt.figure(figsize=(10,6))\n",
    "plt.loglog(ranks, sorted_freq, marker=\".\")\n",
    "plt.title(\"Zipf Yasası Log-Log Grafiği (Excel Verisi)\")\n",
    "plt.xlabel(\"Kelime Sırası (log(rank))\")\n",
    "plt.ylabel(\"Frekans (log(frequency))\")\n",
    "plt.grid(True)\n",
    "plt.show()\n"
   ]
  },
  {
   "cell_type": "code",
   "execution_count": 10,
   "id": "e8ddaa8e-9b73-4e6c-b46e-db92b80ebb32",
   "metadata": {},
   "outputs": [
    {
     "name": "stdout",
     "output_type": "stream",
     "text": [
      "                    0\n",
      "0  taylor swift lyric\n",
      "1  taylor swift lyric\n",
      "2  taylor swift lyric\n",
      "3  taylor swift lyric\n",
      "4  taylor swift lyric\n"
     ]
    },
    {
     "data": {
      "image/png": "[encoded data removed]",
      "text/plain": [
       "<Figure size 1000x600 with 1 Axes>"
      ]
     },
     "metadata": {},
     "output_type": "display_data"
    }
   ],
   "source": [
    "import pandas as pd\n",
    "import matplotlib.pyplot as plt\n",
    "from collections import Counter\n",
    "\n",
    "df = pd.read_csv(\"C:/Users/veysi/Desktop/stemmed_sentences.xls\", header=None)\n",
    "\n",
    "# Veri çerçevesinin ilk birkaç satırını görüntüler\n",
    "print(df.head())\n",
    "\n",
    "# Sütunları manuel olarak atayalım\n",
    "df.columns = ['sentence']\n",
    "\n",
    "# Tüm cümleleri birleştir ve kelimelere ayırır\n",
    "all_words = \" \".join(df[\"sentence\"].dropna()).split()\n",
    "\n",
    "# Kelime frekanslarını hesaplar\n",
    "word_freq = Counter(all_words)\n",
    "\n",
    "# Frekansları azalan şekilde sıralar\n",
    "sorted_freq = sorted(word_freq.values(), reverse=True)\n",
    "\n",
    "# Rank (sıra) verisi oluşturur\n",
    "ranks = range(1, len(sorted_freq) + 1)\n",
    "\n",
    "# Log-log grafiği çizer\n",
    "plt.figure(figsize=(10,6))\n",
    "plt.loglog(ranks, sorted_freq, marker=\".\")\n",
    "plt.title(\"Zipf Yasası Log-Log Grafiği (Excel Verisi)\")\n",
    "plt.xlabel(\"Kelime Sırası (log(rank))\")\n",
    "plt.ylabel(\"Frekans (log(frequency))\")\n",
    "plt.grid(True)\n",
    "plt.show()\n"
   ]
  },
  {
   "cell_type": "code",
   "execution_count": 11,
   "id": "cbcbada8-581b-4239-b166-6f38058acbfe",
   "metadata": {},
   "outputs": [],
   "source": [
    "#Vektörleştirme (Vectorization)"
   ]
  },
  {
   "cell_type": "code",
   "execution_count": 12,
   "id": "bf1487df-fbe7-4c6d-b259-774a0eea9fc7",
   "metadata": {},
   "outputs": [
    {
     "name": "stdout",
     "output_type": "stream",
     "text": [
      "    50  5sos  6ix9ine  adam  adams  adele  after  aguilera  air  akon  ...  \\\n",
      "0  0.0   0.0      0.0   0.0    0.0    0.0    0.0       0.0  0.0   0.0  ...   \n",
      "1  0.0   0.0      0.0   0.0    0.0    0.0    0.0       0.0  0.0   0.0  ...   \n",
      "2  0.0   0.0      0.0   0.0    0.0    0.0    0.0       0.0  0.0   0.0  ...   \n",
      "3  0.0   0.0      0.0   0.0    0.0    0.0    0.0       0.0  0.0   0.0  ...   \n",
      "4  0.0   0.0      0.0   0.0    0.0    0.0    0.0       0.0  0.0   0.0  ...   \n",
      "\n",
      "   ward  weeknd  westlife  wham  white  whitney  williams  wit  wonder  yola  \n",
      "0   0.0     0.0       0.0   0.0    0.0      0.0       0.0  0.0     0.0   0.0  \n",
      "1   0.0     0.0       0.0   0.0    0.0      0.0       0.0  0.0     0.0   0.0  \n",
      "2   0.0     0.0       0.0   0.0    0.0      0.0       0.0  0.0     0.0   0.0  \n",
      "3   0.0     0.0       0.0   0.0    0.0      0.0       0.0  0.0     0.0   0.0  \n",
      "4   0.0     0.0       0.0   0.0    0.0      0.0       0.0  0.0     0.0   0.0  \n",
      "\n",
      "[5 rows x 262 columns]\n",
      "TF-IDF sonuçları 'tfidf_lemmatized.csv' dosyasına kaydedildi.\n"
     ]
    }
   ],
   "source": [
    "from sklearn.feature_extraction.text import TfidfVectorizer\n",
    "df = pd.read_csv(\"C:/Users/veysi/Desktop/lemmatized_sentences.xls\", header=None)\n",
    "\n",
    "# Her satırı string olarak al (lemmatize edilmiş düz cümleler)\n",
    "lemmatized_texts = df[0].astype(str).tolist()\n",
    "\n",
    "# TF-IDF uygulaması\n",
    "vectorizer = TfidfVectorizer()\n",
    "tfidf_matrix = vectorizer.fit_transform(lemmatized_texts)\n",
    "feature_names = vectorizer.get_feature_names_out()\n",
    "tfidf_df = pd.DataFrame(tfidf_matrix.toarray(), columns=feature_names)\n",
    "\n",
    "print(tfidf_df.head())\n",
    "\n",
    "tfidf_df.to_csv(\"C:/Users/veysi/Desktop/tfidf_lemmatized.csv\", index=False, encoding=\"utf-8-sig\")\n",
    "\n",
    "print(\"TF-IDF sonuçları 'tfidf_lemmatized.csv' dosyasına kaydedildi.\")"
   ]
  },
  {
   "cell_type": "code",
   "execution_count": 13,
   "id": "620d8662-aa0b-4ae2-bb3b-8233695eacd9",
   "metadata": {},
   "outputs": [
    {
     "name": "stdout",
     "output_type": "stream",
     "text": [
      "lemmatized_model_cbow_window2_dim100.model saved.\n",
      "lemmatized_model_skipgram_window2_dim100.model saved.\n",
      "lemmatized_model_cbow_window4_dim100.model saved.\n",
      "lemmatized_model_skipgram_window4_dim100.model saved.\n",
      "lemmatized_model_cbow_window2_dim300.model saved.\n",
      "lemmatized_model_skipgram_window2_dim300.model saved.\n",
      "lemmatized_model_cbow_window4_dim300.model saved.\n",
      "lemmatized_model_skipgram_window4_dim300.model saved.\n",
      "\n",
      "Lemmatized CBOW Window 2 Dim 100 Modeli - 'ariana' ile En Benzer 3 Kelime:\n",
      "Kelime: the, Benzerlik Skoru: 0.9186497926712036\n",
      "Kelime: (, Benzerlik Skoru: 0.9131415486335754\n",
      "Kelime: to, Benzerlik Skoru: 0.9113619327545166\n",
      "\n",
      "Stemmed Skipgram Window 4 Dim 100: 'ariana' kelimesi bu modelde yok.\n",
      "\n",
      "Lemmatized Skipgram Window 2 Dim 300 Modeli - 'ariana' ile En Benzer 3 Kelime:\n",
      "Kelime: lyrics, Benzerlik Skoru: 0.9849300980567932\n",
      "Kelime: (, Benzerlik Skoru: 0.9843488931655884\n",
      "Kelime: p, Benzerlik Skoru: 0.9841458201408386\n"
     ]
    }
   ],
   "source": [
    "df = pd.read_csv(\"C:/Users/veysi/Desktop/lemmatized_sentences.xls\", header=None, dtype=str)\n",
    "sentences = df[0].dropna().astype(str).tolist()\n",
    "corpus_lemmatized = [s.lower().split() for s in sentences]\n",
    "\n",
    " #PARAMETRELER\n",
    "parameters = [\n",
    "    {'model_type': 'cbow', 'window': 2, 'vector_size': 100},\n",
    "    {'model_type': 'skipgram', 'window': 2, 'vector_size': 100},\n",
    "    {'model_type': 'cbow', 'window': 4, 'vector_size': 100},\n",
    "    {'model_type': 'skipgram', 'window': 4, 'vector_size': 100},\n",
    "    {'model_type': 'cbow', 'window': 2, 'vector_size': 300},\n",
    "    {'model_type': 'skipgram', 'window': 2, 'vector_size': 300},\n",
    "    {'model_type': 'cbow', 'window': 4, 'vector_size': 300},\n",
    "    {'model_type': 'skipgram', 'window': 4, 'vector_size': 300}\n",
    "]\n",
    "# MODEL EĞİTİM VE KAYIT\n",
    "def train_and_save_model(corpus, params):\n",
    "    model = Word2Vec(\n",
    "        corpus,\n",
    "        vector_size=params['vector_size'],\n",
    "        window=params['window'],\n",
    "        min_count=1,\n",
    "        sg=1 if params['model_type'] == 'skipgram' else 0\n",
    "    )\n",
    "    name = f\"lemmatized_model_{params['model_type']}_window{params['window']}_dim{params['vector_size']}.model\"\n",
    "    model.save(name)\n",
    "    print(f\"{name} saved.\")\n",
    "\n",
    "# Modelleri eğit ve kaydet\n",
    "for param in parameters:\n",
    "    train_and_save_model(corpus_lemmatized, param)\n",
    "\n",
    "# 3 örnek model yükle\n",
    "model_1 = Word2Vec.load(\"lemmatized_model_cbow_window2_dim100.model\")\n",
    "model_2 = Word2Vec.load(\"stemmed_model_skipgram_window4_dim100.model\")\n",
    "model_3 = Word2Vec.load(\"lemmatized_model_skipgram_window2_dim300.model\")\n",
    "\n",
    "# Benzer kelimeleri yazdıran fonksiyon\n",
    "def print_similar_words(model, model_name):\n",
    "    try:\n",
    "        similar = model.wv.most_similar('ariana', topn=3)\n",
    "        print(f\"\\n{model_name} Modeli - 'ariana' ile En Benzer 3 Kelime:\")\n",
    "        for word, score in similar:\n",
    "           print(f\"Kelime: {word}, Benzerlik Skoru: {score}\")\n",
    "    except KeyError:\n",
    "        print(f\"\\n{model_name}: 'ariana' kelimesi bu modelde yok.\")\n",
    "\n",
    "# Sonuçları göster\n",
    "print_similar_words(model_1, \"Lemmatized CBOW Window 2 Dim 100\")\n",
    "print_similar_words(model_2, \"Stemmed Skipgram Window 4 Dim 100\")\n",
    "print_similar_words(model_3, \"Lemmatized Skipgram Window 2 Dim 300\")\n"
   ]
  },
  {
   "cell_type": "code",
   "execution_count": 15,
   "id": "5b258c3f-c6de-489b-aed5-3062d86b0a6d",
   "metadata": {},
   "outputs": [
    {
     "name": "stdout",
     "output_type": "stream",
     "text": [
      "lemmatized_model_cbow_window2_dim100.model saved.\n",
      "lemmatized_model_skipgram_window2_dim100.model saved.\n",
      "lemmatized_model_cbow_window4_dim100.model saved.\n",
      "lemmatized_model_skipgram_window4_dim100.model saved.\n",
      "lemmatized_model_cbow_window2_dim300.model saved.\n",
      "lemmatized_model_skipgram_window2_dim300.model saved.\n",
      "lemmatized_model_cbow_window4_dim300.model saved.\n",
      "lemmatized_model_skipgram_window4_dim300.model saved.\n",
      "\n",
      "Lemmatized CBOW Window 2 Dim 100 Modeli - 'taylor' ile En Benzer 3 Kelime:\n",
      "Kelime: hot, Benzerlik Skoru: 0.9044278264045715\n",
      "Kelime: chili, Benzerlik Skoru: 0.9023447632789612\n",
      "Kelime: white, Benzerlik Skoru: 0.9011516571044922\n",
      "\n",
      "Stemmed Skipgram Window 4 Dim 100: 'taylor' kelimesi bu modelde yok.\n",
      "\n",
      "Lemmatized Skipgram Window 2 Dim 300 Modeli - 'taylor' ile En Benzer 3 Kelime:\n",
      "Kelime: to, Benzerlik Skoru: 0.9701700806617737\n",
      "Kelime: lyric, Benzerlik Skoru: 0.9701488018035889\n",
      "Kelime: the, Benzerlik Skoru: 0.9700113534927368\n"
     ]
    }
   ],
   "source": [
    "df = pd.read_csv(\"C:/Users/veysi/Desktop/stemmed_sentences.xls\", header=None, dtype=str)\n",
    "sentences = df[0].dropna().astype(str).tolist()\n",
    "corpus_lemmatized = [s.lower().split() for s in sentences]\n",
    "\n",
    " #PARAMETRELER\n",
    "parameters = [\n",
    "    {'model_type': 'cbow', 'window': 2, 'vector_size': 100},\n",
    "    {'model_type': 'skipgram', 'window': 2, 'vector_size': 100},\n",
    "    {'model_type': 'cbow', 'window': 4, 'vector_size': 100},\n",
    "    {'model_type': 'skipgram', 'window': 4, 'vector_size': 100},\n",
    "    {'model_type': 'cbow', 'window': 2, 'vector_size': 300},\n",
    "    {'model_type': 'skipgram', 'window': 2, 'vector_size': 300},\n",
    "    {'model_type': 'cbow', 'window': 4, 'vector_size': 300},\n",
    "    {'model_type': 'skipgram', 'window': 4, 'vector_size': 300}\n",
    "]\n",
    "# MODEL EĞİTİM VE KAYIT\n",
    "def train_and_save_model(corpus, params):\n",
    "    model = Word2Vec(\n",
    "        corpus,\n",
    "        vector_size=params['vector_size'],\n",
    "        window=params['window'],\n",
    "        min_count=1,\n",
    "        sg=1 if params['model_type'] == 'skipgram' else 0\n",
    "    )\n",
    "    name = f\"lemmatized_model_{params['model_type']}_window{params['window']}_dim{params['vector_size']}.model\"\n",
    "    model.save(name)\n",
    "    print(f\"{name} saved.\")\n",
    "\n",
    "# Modelleri eğit ve kaydet\n",
    "for param in parameters:\n",
    "    train_and_save_model(corpus_lemmatized, param)\n",
    "\n",
    "# 3 örnek model yükle\n",
    "model_1 = Word2Vec.load(\"lemmatized_model_cbow_window2_dim100.model\")\n",
    "model_2 = Word2Vec.load(\"stemmed_model_skipgram_window4_dim100.model\")\n",
    "model_3 = Word2Vec.load(\"lemmatized_model_skipgram_window2_dim300.model\")\n",
    "\n",
    "# Benzer kelimeleri yazdıran fonksiyon\n",
    "def print_similar_words(model, model_name):\n",
    "    try:\n",
    "        similar = model.wv.most_similar('taylor', topn=3)\n",
    "        print(f\"\\n{model_name} Modeli - 'taylor' ile En Benzer 3 Kelime:\")\n",
    "        for word, score in similar:\n",
    "           print(f\"Kelime: {word}, Benzerlik Skoru: {score}\")\n",
    "    except KeyError:\n",
    "        print(f\"\\n{model_name}: 'taylor' kelimesi bu modelde yok.\")\n",
    "\n",
    "# Sonuçları göster\n",
    "print_similar_words(model_1, \"Lemmatized CBOW Window 2 Dim 100\")\n",
    "print_similar_words(model_2, \"Stemmed Skipgram Window 4 Dim 100\")\n",
    "print_similar_words(model_3, \"Lemmatized Skipgram Window 2 Dim 300\")"
   ]
  },
  {
   "cell_type": "code",
   "execution_count": null,
   "id": "72966251-780e-432c-9513-3bc04d332cdb",
   "metadata": {},
   "outputs": [],
   "source": []
  }
 ],
 "metadata": {
  "kernelspec": {
   "display_name": "Python 3 (ipykernel)",
   "language": "python",
   "name": "python3"
  },
  "language_info": {
   "codemirror_mode": {
    "name": "ipython",
    "version": 3
   },
   "file_extension": ".py",
   "mimetype": "text/x-python",
   "name": "python",
   "nbconvert_exporter": "python",
   "pygments_lexer": "ipython3",
   "version": "3.12.7"
  }
 },
 "nbformat": 4,
 "nbformat_minor": 5
}
